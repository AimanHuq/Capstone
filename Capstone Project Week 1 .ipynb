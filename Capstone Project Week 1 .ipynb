{
 "cells": [
  {
   "cell_type": "markdown",
   "metadata": {},
   "source": [
    "**Capstone Project Week 1: Description/Prject**\n",
    "\n",
    "Imagine wanting to open up a brand new restaurant in New York City. With a population of 8.6 million people, Surely you will have success. But then you realize that there are roughly 26,000 restaurants in the city with many of them producing the same food as yours as well as potentially failing. How could you make your restaurant stand out to avoid this fate. More specifically, where should you build the restaurant. Do you really want to build a new Chinese restaurant with zero recognition in an area dominated by Chinese restaurant(s) that have years of good reputation? This project is here to help those trying to figure out where to build a restaurant to help get people into their building."
   ]
  },
  {
   "cell_type": "markdown",
   "metadata": {},
   "source": [
    "**Captstone Project Week 1: Data**\n",
    "\n",
    "In this project we will be utilizing Foursquare API to get information on the New York City area. This includes geographical location of neighborhoods and the venues within them. From here we will break down what restaurants are in what neighborhood as well as the type of food they serve with how common that type of food is in that area"
   ]
  },
  {
   "cell_type": "code",
   "execution_count": null,
   "metadata": {},
   "outputs": [],
   "source": []
  }
 ],
 "metadata": {
  "kernelspec": {
   "display_name": "Python 3",
   "language": "python",
   "name": "python3"
  },
  "language_info": {
   "codemirror_mode": {
    "name": "ipython",
    "version": 3
   },
   "file_extension": ".py",
   "mimetype": "text/x-python",
   "name": "python",
   "nbconvert_exporter": "python",
   "pygments_lexer": "ipython3",
   "version": "3.7.1"
  }
 },
 "nbformat": 4,
 "nbformat_minor": 2
}
